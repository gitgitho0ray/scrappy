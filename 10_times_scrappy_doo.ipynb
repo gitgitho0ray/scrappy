{
  "nbformat": 4,
  "nbformat_minor": 0,
  "metadata": {
    "colab": {
      "name": "10_times_scrappy_doo.ipynb",
      "provenance": [],
      "collapsed_sections": [],
      "authorship_tag": "ABX9TyOKJ0krrri1kGDipuJ+g1q4",
      "include_colab_link": true
    },
    "kernelspec": {
      "name": "python3",
      "display_name": "Python 3"
    }
  },
  "cells": [
    {
      "cell_type": "markdown",
      "metadata": {
        "id": "view-in-github",
        "colab_type": "text"
      },
      "source": [
        "<a href=\"https://colab.research.google.com/github/gitgitho0ray/scrappy/blob/master/10_times_scrappy_doo.ipynb\" target=\"_parent\"><img src=\"https://colab.research.google.com/assets/colab-badge.svg\" alt=\"Open In Colab\"/></a>"
      ]
    },
    {
      "cell_type": "code",
      "metadata": {
        "id": "vygkQneWaJRW",
        "colab_type": "code",
        "colab": {}
      },
      "source": [
        "from bs4 import BeautifulSoup # For HTML parsing\n",
        "import requests # Website connections\n",
        "from collections import Counter # Keep track of our term counts\n",
        "import pandas as pd # For converting results to a dataframe and bar chart plots\n",
        "import json # For parsing json\n",
        "import re #regex\n",
        "from time import strptime\n",
        "from time import sleep # To prevent overwhelming the server between connections\n",
        "import datetime\n",
        "from datetime import datetime\n",
        "from calendar import monthrange\n",
        "from datetime import timedelta"
      ],
      "execution_count": 0,
      "outputs": []
    },
    {
      "cell_type": "code",
      "metadata": {
        "id": "aFWki56WGcoe",
        "colab_type": "code",
        "colab": {}
      },
      "source": [
        "if __name__ == '__main__':\n",
        "    url = f'https://10times.com/canada/conferences?month=today&datefrom={date.today}&dateto={date.today}'\n",
        "    #magic \n",
        "    class EventDate():\n",
        "\n",
        "        def __init__(self, eventdate):\n",
        "            if len(eventdate) == 4:\n",
        "                sday=int(strptime(eventdate[0],'%d').tm_mday)\n",
        "                month=int(strptime(eventdate[2],'%b').tm_mon)\n",
        "                eday=int(strptime(eventdate[1],'%d').tm_mday)\n",
        "                year=int(strptime(eventdate[-1],'%Y').tm_year)\n",
        "                self.startdate = datetime.date(datetime(year, month, sday))\n",
        "                self.enddate = datetime.date(datetime(year, month, eday))\n",
        "            elif len(eventdate) == 5:\n",
        "                sday=int(strptime(eventdate[0],'%d').tm_mday)\n",
        "                smonth=int(strptime(eventdate[1],'%b').tm_mon)\n",
        "                eday=int(strptime(eventdate[2],'%d').tm_mday)\n",
        "                emonth=int(strptime(eventdate[3],'%b').tm_mon)\n",
        "                year=int(strptime(eventdate[-1],'%Y').tm_year)\n",
        "                self.startdate = datetime.date(datetime(year, smonth, sday))\n",
        "                self.enddate = datetime.date(datetime(year, emonth, eday))\n",
        "            else:\n",
        "                sday=int(strptime(eventdate[0],'%d').tm_mday)\n",
        "                month=int(strptime(eventdate[1],'%b').tm_mon)\n",
        "                eday=int(strptime(eventdate[0],'%d').tm_mday)\n",
        "                year=int(strptime(eventdate[-1],'%Y').tm_year)\n",
        "                self.startdate = datetime.date(datetime(year, month, sday))\n",
        "                self.enddate = datetime.date(datetime(year, month, eday))\n",
        "            \n",
        "\n",
        "    class SearchDate():   \n",
        "\n",
        "        def __init__(self,today='',endofweek='',endofthemonth=''):\n",
        "            self.today=str(datetime.now().date())\n",
        "            self.addoneweek=str((datetime.now().date()+timedelta(days=7)))\n",
        "            self.endofthemonth=str(datetime(datetime.now().year,datetime.now().month,monthrange(datetime.now().year, datetime.now().month)[1]).date())\n",
        "\n",
        "    class ScrappyDoo():\n",
        "\n",
        "        def __init__(self,url):\n",
        "            self.url = url\n",
        "\n",
        "        # def get_html(url, params=None):\n",
        "        #     h = {'user-agent':'Mozilla/5.0 (Macintosh; Intel) Gecko/20100101 Firefox/74.0'}\n",
        "        #     response = requests.get(url,params=params,headers=h)\n",
        "        #     return response.text\n",
        "\n",
        "        def get_content(self):\n",
        "\n",
        "            def get_html(url, params=None):\n",
        "                h = {'user-agent':'Mozilla/5.0 (Macintosh; Intel) Gecko/20100101 Firefox/74.0'}\n",
        "                response = requests.get(self.url,params=params,headers=None)\n",
        "                return response.text\n",
        "\n",
        "            soup = BeautifulSoup(get_html(url), 'html.parser')\n",
        "            items = soup.find_all('tr', class_='box')\n",
        "            events=[i.find('a', {'target':'_blank'}).get('href') for i in items if i.find('a', {'target':'_blank'}) !=None]\n",
        "            # event_links=[]\n",
        "            # for i in items:\n",
        "            #     if i.find('a', {'target':'_blank'}) !=None:\n",
        "            #         event_links.append(i.find('a', {'target':'_blank'}).get('href'))\n",
        "            return events\n",
        "            \n",
        "\n",
        "        def parse():\n",
        "            html = get_html(url)\n",
        "            if html.status_code == 200:\n",
        "                get_content(html.text)\n",
        "            else:\n",
        "                print('error')\n",
        "            return html\n",
        "    date = SearchDate()\n",
        "    url = f'https://10times.com/canada/conferences?month=today&datefrom={date.today}&dateto={date.today}'"
      ],
      "execution_count": 0,
      "outputs": []
    },
    {
      "cell_type": "code",
      "metadata": {
        "id": "F8UlR-jSntXw",
        "colab_type": "code",
        "colab": {
          "base_uri": "https://localhost:8080/",
          "height": 34
        },
        "outputId": "00d639c1-c920-4932-ee94-a27f2aac3a9e"
      },
      "source": [
        "print(url)"
      ],
      "execution_count": 39,
      "outputs": [
        {
          "output_type": "stream",
          "text": [
            "https://10times.com/canada/conferences?month=today&datefrom=2020-05-15&dateto=2020-05-15\n"
          ],
          "name": "stdout"
        }
      ]
    },
    {
      "cell_type": "code",
      "metadata": {
        "id": "f1g5BjfGeH3_",
        "colab_type": "code",
        "outputId": "a5572327-b654-41fa-ef5d-1d78838d126f",
        "colab": {
          "base_uri": "https://localhost:8080/",
          "height": 382
        }
      },
      "source": [
        "collection = ScrappyDoo(url = url)\n",
        "collection.get_content()"
      ],
      "execution_count": 43,
      "outputs": [
        {
          "output_type": "execute_result",
          "data": {
            "text/plain": [
              "['https://10times.com/ecs-meeting-with-international-meeting',\n",
              " 'https://10times.com/csfs-oshawa',\n",
              " 'https://10times.com/vision-quest-conference',\n",
              " 'https://10times.com/canadian-conference-on-artificial',\n",
              " 'https://10times.com/onestream-splash-user-conference',\n",
              " 'https://10times.com/case-canada-fundraising-for-leadership-study',\n",
              " 'https://10times.com/fonom-mmah',\n",
              " 'https://10times.com/catholic-health-alliance-canada-annual-conference',\n",
              " 'https://10times.com/aao-conference-thunder-bay',\n",
              " 'https://10times.com/ottawa-hub-for-harm-reduction-conference-ottawa',\n",
              " 'https://10times.com/karrass-effective-negotiating-seminar-calgary',\n",
              " 'https://10times.com/toronto-international-sarcoma-symposium-toronto',\n",
              " 'https://10times.com/shm-ndt-qu-bec',\n",
              " 'https://10times.com/mypita-conference-whistler',\n",
              " 'https://10times.com/weinstein',\n",
              " 'https://10times.com/northsec-montreal',\n",
              " 'https://10times.com/national-credit-union-conference-for-directors-and',\n",
              " 'https://10times.com/soap-meeting-halifax',\n",
              " 'https://10times.com/cno-meeting-ottawa',\n",
              " 'https://10times.com/podium-montreal',\n",
              " 'https://10times.com/social-media-conference-victoria']"
            ]
          },
          "metadata": {
            "tags": []
          },
          "execution_count": 43
        }
      ]
    },
    {
      "cell_type": "code",
      "metadata": {
        "id": "l7ercqg8WBsV",
        "colab_type": "code",
        "colab": {}
      },
      "source": [
        "# get_content(get_html(url))"
      ],
      "execution_count": 0,
      "outputs": []
    },
    {
      "cell_type": "code",
      "metadata": {
        "id": "SXIQRC5ghOOw",
        "colab_type": "code",
        "colab": {}
      },
      "source": [
        "eventlinksdf=pd.DataFrame(collection.get_content(),columns=['URL'])\n",
        "eventlinksdf"
      ],
      "execution_count": 0,
      "outputs": []
    },
    {
      "cell_type": "code",
      "metadata": {
        "id": "Eu3z5NabojN7",
        "colab_type": "code",
        "colab": {}
      },
      "source": [
        "def get_html(url, params=None):\n",
        "    h = {'user-agent':'Mozilla/5.0 (Macintosh; Intel) Gecko/20100101 Firefox/74.0'}\n",
        "    response = requests.get(url,params=params,headers=None)\n",
        "    return response.text"
      ],
      "execution_count": 0,
      "outputs": []
    },
    {
      "cell_type": "code",
      "metadata": {
        "id": "aLmQ4VLfhOHJ",
        "colab_type": "code",
        "outputId": "184dd732-0778-4bb6-a85c-07e9ad5d8bf3",
        "colab": {
          "base_uri": "https://localhost:8080/",
          "height": 607
        }
      },
      "source": [
        "\n",
        "urls = eventlinksdf['URL'].to_list()\n",
        "venorg=[]\n",
        "for url in urls: \n",
        "    print(url)\n",
        "    soup = BeautifulSoup(get_html(url), 'html.parser')\n",
        "    \n",
        "\n",
        "    \n",
        "    #Event info \n",
        "    eventname = soup.find('h1').get_text()\n",
        "    ####NEW NOT WORKING \n",
        "    try:\n",
        "        organizer = soup.find('h3',{'id':'org-name'}).get_text().split('\\n')[0]\n",
        "    except AttributeError:\n",
        "        organizer = soup.find('h3').get_text().split('\\n')[0]\n",
        "\n",
        "    description = soup.find('p', class_=\"desc mng word-break\").get_text(strip=True)\n",
        "    location=[i.get_text() for i in soup.find_all('p') if i.find('span') != None][0]\n",
        "    # try:\n",
        "    eventdate = EventDate(soup.select('span[content]')[0].get_text().replace('-','').split())\n",
        "    # except ValueError:\n",
        "    #     continue\n",
        "\n",
        "    rawtables = [i.find('table',class_='table noBorder mng').find_all('td') for i in soup.find_all('div', class_='row11')]\n",
        "    info=[rawtables[0][i].get_text().split(\" \",1) for i in range(len(rawtables[0]))]\n",
        "\n",
        "    # try:\n",
        "    infodata=[i[1].strip('\\n').strip() for i in info[:4]]\n",
        "    # except IndexError:\n",
        "    #     continue\n",
        "\n",
        "    time = [\" \".join(i[:2]) for i in [i.split() for i in infodata[0].split('-')]] # time \n",
        "    participants =(re.findall(r\"[0-9]+\\s-\\s[0-9]+ | [0-9]+\", infodata[2]))[0].strip()\n",
        "    tags = (', '.join(infodata[3].replace('Type','').replace('&','').split()))\n",
        "    \n",
        "    #ATTENDEES BLOCK \n",
        "    attendeename=[]\n",
        "    profilelinks=[]\n",
        "    attendeeloc=[]\n",
        "    attendeedata=[]\n",
        "\n",
        "    try:\n",
        "        for i in soup.find('div', class_=\"visitor clearfix\"):\n",
        "            try:\n",
        "                attendeedata.append([i.find('h4').get_text(),' '.join(i.get_text().replace('Connect','').split()[-2:]),i.find('a').get('href')])\n",
        "            except AttributeError:\n",
        "                continue\n",
        "    except TypeError:\n",
        "        continue\n",
        "\n",
        "    #df list \n",
        "    venorg.append([eventname,organizer,description,location,eventdate.startdate,eventdate.enddate,time[0],time[1],tags,participants,attendeedata])\n",
        "    print('Processed')\n",
        "\n",
        "\n",
        "finaldf = pd.DataFrame(venorg,columns=['EventName',\n",
        "                                       'Organizer',\n",
        "                                       'Description',\n",
        "                                       'Address',\n",
        "                                       'StartDate',\n",
        "                                       'EndDate',\n",
        "                                       'StartTime',\n",
        "                                       'EndTime',\n",
        "                                       'Tags',\n",
        "                                       'ExpectedParticipants',\n",
        "                                       'AttendeeData'])\n",
        "\n"
      ],
      "execution_count": 93,
      "outputs": [
        {
          "output_type": "stream",
          "text": [
            "https://10times.com/ecs-meeting-with-international-meeting\n",
            "Processed\n",
            "https://10times.com/csfs-oshawa\n",
            "https://10times.com/vision-quest-conference\n",
            "Processed\n",
            "https://10times.com/canadian-conference-on-artificial\n",
            "Processed\n",
            "https://10times.com/onestream-splash-user-conference\n",
            "https://10times.com/case-canada-fundraising-for-leadership-study\n",
            "https://10times.com/fonom-mmah\n",
            "https://10times.com/catholic-health-alliance-canada-annual-conference\n",
            "Processed\n",
            "https://10times.com/aao-conference-thunder-bay\n",
            "https://10times.com/ottawa-hub-for-harm-reduction-conference-ottawa\n",
            "Processed\n",
            "https://10times.com/karrass-effective-negotiating-seminar-calgary\n",
            "Processed\n",
            "https://10times.com/toronto-international-sarcoma-symposium-toronto\n",
            "https://10times.com/shm-ndt-qu-bec\n",
            "https://10times.com/mypita-conference-whistler\n",
            "https://10times.com/weinstein\n",
            "Processed\n",
            "https://10times.com/northsec-montreal\n",
            "Processed\n",
            "https://10times.com/national-credit-union-conference-for-directors-and\n",
            "Processed\n",
            "https://10times.com/soap-meeting-halifax\n",
            "Processed\n",
            "https://10times.com/cno-meeting-ottawa\n",
            "Processed\n",
            "https://10times.com/podium-montreal\n",
            "Processed\n",
            "https://10times.com/social-media-conference-victoria\n",
            "Processed\n"
          ],
          "name": "stdout"
        }
      ]
    },
    {
      "cell_type": "code",
      "metadata": {
        "id": "Vt5wIb4UZgFj",
        "colab_type": "code",
        "outputId": "3cda17e0-6e9d-4861-b299-a620483e2d4b",
        "colab": {
          "base_uri": "https://localhost:8080/",
          "height": 1000
        }
      },
      "source": [
        "finaldf"
      ],
      "execution_count": 94,
      "outputs": [
        {
          "output_type": "execute_result",
          "data": {
            "text/html": [
              "<div>\n",
              "<style scoped>\n",
              "    .dataframe tbody tr th:only-of-type {\n",
              "        vertical-align: middle;\n",
              "    }\n",
              "\n",
              "    .dataframe tbody tr th {\n",
              "        vertical-align: top;\n",
              "    }\n",
              "\n",
              "    .dataframe thead th {\n",
              "        text-align: right;\n",
              "    }\n",
              "</style>\n",
              "<table border=\"1\" class=\"dataframe\">\n",
              "  <thead>\n",
              "    <tr style=\"text-align: right;\">\n",
              "      <th></th>\n",
              "      <th>EventName</th>\n",
              "      <th>Organizer</th>\n",
              "      <th>Description</th>\n",
              "      <th>Address</th>\n",
              "      <th>StartDate</th>\n",
              "      <th>EndDate</th>\n",
              "      <th>StartTime</th>\n",
              "      <th>EndTime</th>\n",
              "      <th>Tags</th>\n",
              "      <th>ExpectedParticipants</th>\n",
              "      <th>AttendeeData</th>\n",
              "    </tr>\n",
              "  </thead>\n",
              "  <tbody>\n",
              "    <tr>\n",
              "      <th>0</th>\n",
              "      <td>ECS Meeting with the International Meeting on ...</td>\n",
              "      <td>The Electrochemical Society</td>\n",
              "      <td>ECS Meeting with the International Meeting on ...</td>\n",
              "      <td>1001 Place Jean-Paul-Riopelle, Montréal, QC H...</td>\n",
              "      <td>2020-05-10</td>\n",
              "      <td>2020-05-15</td>\n",
              "      <td>09:00 AM</td>\n",
              "      <td>06:00 PM</td>\n",
              "      <td>Conference, Electric, Electronics, Science, Re...</td>\n",
              "      <td>100 - 500</td>\n",
              "      <td>[[Shijun Liao, Dongguan, China, https://10time...</td>\n",
              "    </tr>\n",
              "    <tr>\n",
              "      <th>1</th>\n",
              "      <td>Vision Quest Conference</td>\n",
              "      <td>Vision Quest Conferences Inc.</td>\n",
              "      <td>The Vision Quest Conference will feature Abori...</td>\n",
              "      <td>Winnipeg,\\n                                  ...</td>\n",
              "      <td>2020-05-12</td>\n",
              "      <td>2020-05-15</td>\n",
              "      <td>09:00 AM</td>\n",
              "      <td>06:00 PM</td>\n",
              "      <td>Conference, Business, Services</td>\n",
              "      <td>500 - 1000</td>\n",
              "      <td>[[Elizabeth Bird, Winnipeg, Canada, https://10...</td>\n",
              "    </tr>\n",
              "    <tr>\n",
              "      <th>2</th>\n",
              "      <td>Canadian Conference on Artificial Intelligence</td>\n",
              "      <td>Canadian Artificial Intelligence Association</td>\n",
              "      <td>Canadian Conference on Artificial Intelligence...</td>\n",
              "      <td>75 Laurier Ave E Ottawa ON K1N 6N5 Canada</td>\n",
              "      <td>2020-05-12</td>\n",
              "      <td>2020-05-15</td>\n",
              "      <td>09:00 AM</td>\n",
              "      <td>06:00 PM</td>\n",
              "      <td>Conference, Science, Research, IT, Technology</td>\n",
              "      <td>100 - 500</td>\n",
              "      <td>[[Jacky Karenzi kibasumba, Kigali, Rwanda, htt...</td>\n",
              "    </tr>\n",
              "    <tr>\n",
              "      <th>3</th>\n",
              "      <td>Catholic Health Alliance of Canada Annual Conf...</td>\n",
              "      <td>Catholic Health Australia</td>\n",
              "      <td>Catholic Health Alliance of Canada Annual Conf...</td>\n",
              "      <td>delta hotel, Montreal, QC H3A 1J7, Canada Canada</td>\n",
              "      <td>2020-05-13</td>\n",
              "      <td>2020-05-15</td>\n",
              "      <td>09:00 AM</td>\n",
              "      <td>06:00 PM</td>\n",
              "      <td>Conference, Wellness,, Health, Fitness</td>\n",
              "      <td>100 - 500</td>\n",
              "      <td>[[Sylvie Linsuke, Of Congo, https://10times.co...</td>\n",
              "    </tr>\n",
              "    <tr>\n",
              "      <th>4</th>\n",
              "      <td>Ottawa Hub for Harm Reduction Conference</td>\n",
              "      <td>University of Ottawa</td>\n",
              "      <td>Ottawa Hub for Harm Reduction Conference is a ...</td>\n",
              "      <td>75 Laurier Ave E Ottawa ON K1N 6N5 Canada</td>\n",
              "      <td>2020-05-14</td>\n",
              "      <td>2020-05-15</td>\n",
              "      <td>09:00 AM</td>\n",
              "      <td>06:00 PM</td>\n",
              "      <td>Conference, Business, Services, IT, Technology</td>\n",
              "      <td>100 - 500</td>\n",
              "      <td>[[Carol McGerry, United States, https://10time...</td>\n",
              "    </tr>\n",
              "    <tr>\n",
              "      <th>5</th>\n",
              "      <td>KARRASS Effective Negotiating Seminar</td>\n",
              "      <td>KARRASS</td>\n",
              "      <td>KARRASS Effective Negotiating Seminar will sho...</td>\n",
              "      <td>402 Collegiate Blvd NW, Calgary, AB T2N 1N4 C...</td>\n",
              "      <td>2020-05-14</td>\n",
              "      <td>2020-05-15</td>\n",
              "      <td>09:00 AM</td>\n",
              "      <td>06:00 PM</td>\n",
              "      <td>Conference, Business, Services, Education, Tra...</td>\n",
              "      <td>100 - 500</td>\n",
              "      <td>[[Mubasher Khan, Calgary, Canada, https://10ti...</td>\n",
              "    </tr>\n",
              "    <tr>\n",
              "      <th>6</th>\n",
              "      <td>Weinstein Cardiovascular Development and Regen...</td>\n",
              "      <td>Conferium Conference services</td>\n",
              "      <td>The Weinstein Cardiovascular Development and R...</td>\n",
              "      <td>900 Rue de la Gauchetiere O Montreal QC H5A 1...</td>\n",
              "      <td>2020-05-14</td>\n",
              "      <td>2020-05-16</td>\n",
              "      <td>09:00 AM</td>\n",
              "      <td>06:00 PM</td>\n",
              "      <td>Conference, Medical, Pharma</td>\n",
              "      <td>100 - 500</td>\n",
              "      <td>[[Amira Elshourbagy, Saudi Arabia, https://10t...</td>\n",
              "    </tr>\n",
              "    <tr>\n",
              "      <th>7</th>\n",
              "      <td>NorthSec</td>\n",
              "      <td>Northsec</td>\n",
              "      <td>NorthSec conference will feature High-quality ...</td>\n",
              "      <td>350 St-Paul Street East Montreal,\\n          ...</td>\n",
              "      <td>2020-05-10</td>\n",
              "      <td>2020-05-17</td>\n",
              "      <td>09:00 AM</td>\n",
              "      <td>06:00 PM</td>\n",
              "      <td>Conference, Education, Training, IT, Technology</td>\n",
              "      <td>500 - 1000</td>\n",
              "      <td>[[Batsaikhan, Ulaanbaatar, Mongolia, https://1...</td>\n",
              "    </tr>\n",
              "    <tr>\n",
              "      <th>8</th>\n",
              "      <td>National Credit Union Conference for Directors...</td>\n",
              "      <td>CU Conferences</td>\n",
              "      <td>National Credit Union Conference for Directors...</td>\n",
              "      <td>5685 Falls Ave, Niagara Falls, ON L2E 6W7 Canada</td>\n",
              "      <td>2020-05-13</td>\n",
              "      <td>2020-05-17</td>\n",
              "      <td>09:00 AM</td>\n",
              "      <td>06:00 PM</td>\n",
              "      <td>Conference, Banking, Finance</td>\n",
              "      <td>100 - 500</td>\n",
              "      <td>[[Mark, Chennai, India, https://10times.com/pr...</td>\n",
              "    </tr>\n",
              "    <tr>\n",
              "      <th>9</th>\n",
              "      <td>Society for Obstetric Anesthesia &amp; Perinatolog...</td>\n",
              "      <td>The Society for Obstetric Anesthesia &amp; Perinat...</td>\n",
              "      <td>Society for Obstetric Anesthesia &amp; Perinatolog...</td>\n",
              "      <td>1650 Argyle St, Halifax, NS B3J 0E6, Canada C...</td>\n",
              "      <td>2020-05-13</td>\n",
              "      <td>2020-05-17</td>\n",
              "      <td>09:00 AM</td>\n",
              "      <td>06:00 PM</td>\n",
              "      <td>Conference, Medical, Pharma</td>\n",
              "      <td>100 - 500</td>\n",
              "      <td>[[Ashraf Eissa, Doha, Qatar, https://10times.c...</td>\n",
              "    </tr>\n",
              "    <tr>\n",
              "      <th>10</th>\n",
              "      <td>Biennial Canadian Neuro-Oncology Meeting</td>\n",
              "      <td>Sunnybrook Research Institute</td>\n",
              "      <td>Biennial Canadian Neuro-Oncology Meeting, we a...</td>\n",
              "      <td>11 Colonel By Drive Ottawa, Ontario, Canada K...</td>\n",
              "      <td>2020-05-14</td>\n",
              "      <td>2020-05-17</td>\n",
              "      <td>09:00 AM</td>\n",
              "      <td>06:00 PM</td>\n",
              "      <td>Conference, Medical, Pharma</td>\n",
              "      <td>100 - 500</td>\n",
              "      <td>[[Dr Sarah Crawford, United States, https://10...</td>\n",
              "    </tr>\n",
              "    <tr>\n",
              "      <th>11</th>\n",
              "      <td>Podium</td>\n",
              "      <td>Choral Canada Newly listed</td>\n",
              "      <td>Podium provides a unique opportunity for profe...</td>\n",
              "      <td>Montreal,\\n                                  ...</td>\n",
              "      <td>2020-05-14</td>\n",
              "      <td>2020-05-17</td>\n",
              "      <td>09:00 AM</td>\n",
              "      <td>06:00 PM</td>\n",
              "      <td>Conference, Education, Training</td>\n",
              "      <td>100 - 500</td>\n",
              "      <td>[[Farooq Nazir Moma, Islamabad, Pakistan, http...</td>\n",
              "    </tr>\n",
              "    <tr>\n",
              "      <th>12</th>\n",
              "      <td>Social Media Conference</td>\n",
              "      <td>Social Media Camp</td>\n",
              "      <td>\"Canada's largest social media conference\"Soci...</td>\n",
              "      <td>720 Douglas St, Victoria, BC V8W 3M7 Canada</td>\n",
              "      <td>2020-05-07</td>\n",
              "      <td>2020-06-08</td>\n",
              "      <td>09:00 AM</td>\n",
              "      <td>06:00 PM</td>\n",
              "      <td>Conference, Business, Services</td>\n",
              "      <td>2000 - 5000</td>\n",
              "      <td>[[GERALD LUYIMA, Kampala, Uganda, https://10ti...</td>\n",
              "    </tr>\n",
              "  </tbody>\n",
              "</table>\n",
              "</div>"
            ],
            "text/plain": [
              "                                            EventName  ...                                       AttendeeData\n",
              "0   ECS Meeting with the International Meeting on ...  ...  [[Shijun Liao, Dongguan, China, https://10time...\n",
              "1                             Vision Quest Conference  ...  [[Elizabeth Bird, Winnipeg, Canada, https://10...\n",
              "2      Canadian Conference on Artificial Intelligence  ...  [[Jacky Karenzi kibasumba, Kigali, Rwanda, htt...\n",
              "3   Catholic Health Alliance of Canada Annual Conf...  ...  [[Sylvie Linsuke, Of Congo, https://10times.co...\n",
              "4            Ottawa Hub for Harm Reduction Conference  ...  [[Carol McGerry, United States, https://10time...\n",
              "5               KARRASS Effective Negotiating Seminar  ...  [[Mubasher Khan, Calgary, Canada, https://10ti...\n",
              "6   Weinstein Cardiovascular Development and Regen...  ...  [[Amira Elshourbagy, Saudi Arabia, https://10t...\n",
              "7                                            NorthSec  ...  [[Batsaikhan, Ulaanbaatar, Mongolia, https://1...\n",
              "8   National Credit Union Conference for Directors...  ...  [[Mark, Chennai, India, https://10times.com/pr...\n",
              "9   Society for Obstetric Anesthesia & Perinatolog...  ...  [[Ashraf Eissa, Doha, Qatar, https://10times.c...\n",
              "10           Biennial Canadian Neuro-Oncology Meeting  ...  [[Dr Sarah Crawford, United States, https://10...\n",
              "11                                             Podium  ...  [[Farooq Nazir Moma, Islamabad, Pakistan, http...\n",
              "12                           Social Media Conference   ...  [[GERALD LUYIMA, Kampala, Uganda, https://10ti...\n",
              "\n",
              "[13 rows x 11 columns]"
            ]
          },
          "metadata": {
            "tags": []
          },
          "execution_count": 94
        }
      ]
    },
    {
      "cell_type": "code",
      "metadata": {
        "id": "GaMniD7mqJYO",
        "colab_type": "code",
        "colab": {}
      },
      "source": [
        ""
      ],
      "execution_count": 0,
      "outputs": []
    },
    {
      "cell_type": "code",
      "metadata": {
        "id": "z8RnTvRgqJP3",
        "colab_type": "code",
        "colab": {}
      },
      "source": [
        ""
      ],
      "execution_count": 0,
      "outputs": []
    },
    {
      "cell_type": "code",
      "metadata": {
        "id": "nQLXHj_wqJKX",
        "colab_type": "code",
        "colab": {}
      },
      "source": [
        "userurl='https://10times.com/karrass-effective-negotiating-seminar-calgary'\n",
        "soup1 = BeautifulSoup(get_html(userurl), 'html.parser')\n",
        "rawtables = [i.find('table',class_='table noBorder mng').find_all('td') for i in soup.find_all('div', class_='row11')]\n",
        "info=[rawtables[0][i].get_text().split(\" \",1) for i in range(len(rawtables[0]))]\n",
        "infodata=[i[1].strip('\\n').strip() for i in info]"
      ],
      "execution_count": 0,
      "outputs": []
    },
    {
      "cell_type": "code",
      "metadata": {
        "id": "Z6rcX32OqJBy",
        "colab_type": "code",
        "colab": {
          "base_uri": "https://localhost:8080/",
          "height": 217
        },
        "outputId": "3ec7a11e-34c7-41c6-dfbb-56061202cff0"
      },
      "source": [
        "infodata=[i[1].strip('\\n').strip() for i in info]"
      ],
      "execution_count": 80,
      "outputs": [
        {
          "output_type": "error",
          "ename": "IndexError",
          "evalue": "ignored",
          "traceback": [
            "\u001b[0;31m---------------------------------------------------------------------------\u001b[0m",
            "\u001b[0;31mIndexError\u001b[0m                                Traceback (most recent call last)",
            "\u001b[0;32m<ipython-input-80-0e3e874855c9>\u001b[0m in \u001b[0;36m<module>\u001b[0;34m()\u001b[0m\n\u001b[0;32m----> 1\u001b[0;31m \u001b[0minfodata\u001b[0m\u001b[0;34m=\u001b[0m\u001b[0;34m[\u001b[0m\u001b[0mi\u001b[0m\u001b[0;34m[\u001b[0m\u001b[0;36m1\u001b[0m\u001b[0;34m]\u001b[0m\u001b[0;34m.\u001b[0m\u001b[0mstrip\u001b[0m\u001b[0;34m(\u001b[0m\u001b[0;34m'\\n'\u001b[0m\u001b[0;34m)\u001b[0m\u001b[0;34m.\u001b[0m\u001b[0mstrip\u001b[0m\u001b[0;34m(\u001b[0m\u001b[0;34m)\u001b[0m \u001b[0;32mfor\u001b[0m \u001b[0mi\u001b[0m \u001b[0;32min\u001b[0m \u001b[0minfo\u001b[0m\u001b[0;34m]\u001b[0m\u001b[0;34m\u001b[0m\u001b[0;34m\u001b[0m\u001b[0m\n\u001b[0m",
            "\u001b[0;32m<ipython-input-80-0e3e874855c9>\u001b[0m in \u001b[0;36m<listcomp>\u001b[0;34m(.0)\u001b[0m\n\u001b[0;32m----> 1\u001b[0;31m \u001b[0minfodata\u001b[0m\u001b[0;34m=\u001b[0m\u001b[0;34m[\u001b[0m\u001b[0mi\u001b[0m\u001b[0;34m[\u001b[0m\u001b[0;36m1\u001b[0m\u001b[0;34m]\u001b[0m\u001b[0;34m.\u001b[0m\u001b[0mstrip\u001b[0m\u001b[0;34m(\u001b[0m\u001b[0;34m'\\n'\u001b[0m\u001b[0;34m)\u001b[0m\u001b[0;34m.\u001b[0m\u001b[0mstrip\u001b[0m\u001b[0;34m(\u001b[0m\u001b[0;34m)\u001b[0m \u001b[0;32mfor\u001b[0m \u001b[0mi\u001b[0m \u001b[0;32min\u001b[0m \u001b[0minfo\u001b[0m\u001b[0;34m]\u001b[0m\u001b[0;34m\u001b[0m\u001b[0;34m\u001b[0m\u001b[0m\n\u001b[0m",
            "\u001b[0;31mIndexError\u001b[0m: list index out of range"
          ]
        }
      ]
    },
    {
      "cell_type": "code",
      "metadata": {
        "id": "QuYkCFUFuIgQ",
        "colab_type": "code",
        "colab": {
          "base_uri": "https://localhost:8080/",
          "height": 86
        },
        "outputId": "37e284ec-b1ad-4b33-edff-794d19d8d4d7"
      },
      "source": [
        "for i in info[:4]:\n",
        "    print(i[1])"
      ],
      "execution_count": 92,
      "outputs": [
        {
          "output_type": "stream",
          "text": [
            "09:00 AM-06:00 PM (expected)  Not Verified\n",
            "Fees Check Official Website\n",
            "100 - 500  DelegatesEstimated Count\n",
            "& Type Conference Business Services Education & Training\n"
          ],
          "name": "stdout"
        }
      ]
    },
    {
      "cell_type": "code",
      "metadata": {
        "id": "L57DA_yRuIeG",
        "colab_type": "code",
        "colab": {}
      },
      "source": [
        ""
      ],
      "execution_count": 0,
      "outputs": []
    },
    {
      "cell_type": "code",
      "metadata": {
        "id": "R7HDgB4BuIcE",
        "colab_type": "code",
        "colab": {}
      },
      "source": [
        ""
      ],
      "execution_count": 0,
      "outputs": []
    },
    {
      "cell_type": "code",
      "metadata": {
        "id": "7hdZGYPCuIZ5",
        "colab_type": "code",
        "colab": {}
      },
      "source": [
        ""
      ],
      "execution_count": 0,
      "outputs": []
    },
    {
      "cell_type": "code",
      "metadata": {
        "id": "vNBuaFMNuIYb",
        "colab_type": "code",
        "colab": {}
      },
      "source": [
        ""
      ],
      "execution_count": 0,
      "outputs": []
    },
    {
      "cell_type": "code",
      "metadata": {
        "id": "KWDmz4hYuIV1",
        "colab_type": "code",
        "colab": {}
      },
      "source": [
        ""
      ],
      "execution_count": 0,
      "outputs": []
    },
    {
      "cell_type": "code",
      "metadata": {
        "id": "s1VlZFcmuITf",
        "colab_type": "code",
        "colab": {}
      },
      "source": [
        ""
      ],
      "execution_count": 0,
      "outputs": []
    },
    {
      "cell_type": "code",
      "metadata": {
        "id": "y6RXqaPcuIRE",
        "colab_type": "code",
        "colab": {}
      },
      "source": [
        ""
      ],
      "execution_count": 0,
      "outputs": []
    },
    {
      "cell_type": "code",
      "metadata": {
        "id": "CE41lvunaJyE",
        "colab_type": "code",
        "colab": {}
      },
      "source": [
        "userurl='https://10times.com/judy-project'\n",
        "soup1 = BeautifulSoup(get_html(userurl), 'html.parser')\n",
        "attendeename=[]\n",
        "profilelinks=[]\n",
        "attendeeloc=[]\n",
        "attendeedata=[]\n",
        "\n",
        "#ATTENDEES BLOCK \n",
        "\n",
        "for i in soup1.find('div', class_=\"visitor clearfix\"):\n",
        "    try:\n",
        "        attendeedata.append([i.find('h4').get_text(),' '.join(i.get_text().replace('Connect','').split()[-2:]),i.find('a').get('href')])\n",
        "        attendees.append(i.find('h4').get_text()) # name\n",
        "        profilelinks.append(i.find('a').get('href')) #profilelink\n",
        "        attendeeloc.append(' '.join(i.get_text().replace('Connect','').split()[-2:])) #location \n",
        "    except AttributeError:\n",
        "        continue\n",
        "attendeedata"
      ],
      "execution_count": 0,
      "outputs": []
    },
    {
      "cell_type": "code",
      "metadata": {
        "id": "4EfRsJ3PqBee",
        "colab_type": "code",
        "colab": {}
      },
      "source": [
        "# items = soup.find_all('div', class_='row11')\n",
        "rawtables = [i.find('table',class_='table noBorder mng').find_all('td') for i in soup.find_all('div', class_='row11')]\n",
        "info=[rawtables[0][i].get_text().split(\" \",1) for i in range(len(rawtables[0]))]\n",
        "infodata=[i[1].strip('\\n').strip() for i in info]\n",
        "time = [\" \".join(i[:2]) for i in [i.split() for i in infodata[0].split('-')]] # time \n",
        "participants =(re.findall(r\"[0-9]+\\s-\\s[0-9]+\", infodata[2]))\n",
        "tags = (', '.join(infodata[3].replace('Type','').replace('&','').split()))\n",
        "print(tags)"
      ],
      "execution_count": 0,
      "outputs": []
    }
  ]
}